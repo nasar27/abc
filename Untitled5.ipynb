{
 "cells": [
  {
   "cell_type": "code",
   "execution_count": 2,
   "id": "0e6bd0bf",
   "metadata": {},
   "outputs": [
    {
     "ename": "SyntaxError",
     "evalue": "cannot assign to function call here. Maybe you meant '==' instead of '='? (868146621.py, line 10)",
     "output_type": "error",
     "traceback": [
      "\u001b[1;36m  Cell \u001b[1;32mIn[2], line 10\u001b[1;36m\u001b[0m\n\u001b[1;33m    if len(self.queue)= self.limit:\u001b[0m\n\u001b[1;37m       ^\u001b[0m\n\u001b[1;31mSyntaxError\u001b[0m\u001b[1;31m:\u001b[0m cannot assign to function call here. Maybe you meant '==' instead of '='?\n"
     ]
    }
   ],
   "source": [
    "# implementing a queue using python list:\n",
    "class queue:\n",
    "    def __init__(self,limit):\n",
    "        self.limit = limit\n",
    "        self.queue = []\n",
    "        \n",
    "    def enqueue(self,value):\n",
    "        pass\n",
    "    def isfull(self):\n",
    "        if len(self.queue)= self.limit:\n",
    "            return True\n",
    "        else:\n",
    "            return False\n",
    "        \n",
    "    def deque (self):\n",
    "        if self.isempty():\n",
    "            print(\"Queue is Empty\")\n",
    "        else:\n",
    "            self.queue.pop(0)\n",
    "            \n",
    "    def isempty(self):\n",
    "        if len(self.queue)=0:\n",
    "            return True\n",
    "        else:\n",
    "            return False\n",
    "    def peek(self):\n",
    "        if self.isempty():\n",
    "            print(\"Queue is Empty\")\n",
    "        else:\n",
    "            return self.queue[0]"
   ]
  },
  {
   "cell_type": "code",
   "execution_count": null,
   "id": "bfe910ea",
   "metadata": {},
   "outputs": [],
   "source": [
    "5+2 --> Infix expersion\n",
    "+[5][2]--> prefix espresion\n",
    "[5][2]+ --> postfix expresion\n",
    "\n",
    "# evaluate a postfix expression using stack.\n",
    "\n"
   ]
  },
  {
   "cell_type": "code",
   "execution_count": null,
   "id": "e4692851",
   "metadata": {},
   "outputs": [],
   "source": [
    "[CAB+-AB+*] ---> [[5][4][2]+-[4][3]+*]\n",
    "[] ---> []\n",
    "\n",
    "[C A(+B) ] ---> [  5][4][2]   ] -- [4]+[2] --[5]\n",
    "+\n",
    "(A + B)\n"
   ]
  }
 ],
 "metadata": {
  "kernelspec": {
   "display_name": "Python 3 (ipykernel)",
   "language": "python",
   "name": "python3"
  },
  "language_info": {
   "codemirror_mode": {
    "name": "ipython",
    "version": 3
   },
   "file_extension": ".py",
   "mimetype": "text/x-python",
   "name": "python",
   "nbconvert_exporter": "python",
   "pygments_lexer": "ipython3",
   "version": "3.10.9"
  }
 },
 "nbformat": 4,
 "nbformat_minor": 5
}
